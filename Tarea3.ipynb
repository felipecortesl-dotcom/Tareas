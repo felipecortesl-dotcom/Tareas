{
  "nbformat": 4,
  "nbformat_minor": 0,
  "metadata": {
    "colab": {
      "provenance": [],
      "authorship_tag": "ABX9TyOUXfGMjjmK8VnM+Jglfr4u",
      "include_colab_link": true
    },
    "kernelspec": {
      "name": "python3",
      "display_name": "Python 3"
    },
    "language_info": {
      "name": "python"
    }
  },
  "cells": [
    {
      "cell_type": "markdown",
      "metadata": {
        "id": "view-in-github",
        "colab_type": "text"
      },
      "source": [
        "<a href=\"https://colab.research.google.com/github/felipecortesl-dotcom/Tareas/blob/main/Tarea3.ipynb\" target=\"_parent\"><img src=\"https://colab.research.google.com/assets/colab-badge.svg\" alt=\"Open In Colab\"/></a>"
      ]
    },
    {
      "cell_type": "code",
      "source": [
        "import numpy as np\n",
        "\n",
        "# Total de personas\n",
        "poblacion = np.array([0]*50 + [1]*30 + [2]*20)\n",
        "# 0 = dicen la verdad, 1 = mienten, 2 = no responden\n",
        "\n",
        "def experimento():\n",
        "    muestra = np.random.choice(poblacion, size=30, replace=False)\n",
        "    unicos, cuentas = np.unique(muestra, return_counts=True)\n",
        "    conteo = dict(zip(unicos, cuentas))\n",
        "    return (conteo.get(0,0), conteo.get(1,0), conteo.get(2,0))\n",
        "\n",
        "# Número de simulaciones\n",
        "N = 100000\n",
        "resultados = np.array([experimento() for _ in range(N)])\n",
        "\n",
        "# Probabilidad aproximada de obtener exactamente 10 de cada categoría\n",
        "exito = np.sum((resultados[:,0]==10) & (resultados[:,1]==10) & (resultados[:,2]==10))\n",
        "probabilidad = exito / N\n",
        "\n",
        "# Estimación del error (desviación estándar de una variable Bernoulli)\n",
        "error = np.sqrt(probabilidad * (1 - probabilidad) / N)\n",
        "\n",
        "print(f\"Probabilidad ≈ {probabilidad:.6e}\")\n",
        "print(f\"Error estimado ≈ {error:.2e}\")"
      ],
      "metadata": {
        "colab": {
          "base_uri": "https://localhost:8080/"
        },
        "id": "KKaRhDw37Kxz",
        "outputId": "f44020f3-857f-4949-d051-44ca1b51e396"
      },
      "execution_count": 3,
      "outputs": [
        {
          "output_type": "stream",
          "name": "stdout",
          "text": [
            "Probabilidad ≈ 1.890000e-03\n",
            "Error estimado ≈ 1.37e-04\n"
          ]
        }
      ]
    }
  ]
}