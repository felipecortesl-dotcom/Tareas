{
  "cells": [
    {
      "cell_type": "markdown",
      "metadata": {},
      "source": [
        "# Nota: 6.8\n",
        "\n",
        "<a href=\"https://colab.research.google.com/github/felipecortesl-dotcom/Tareas/blob/main/Tarea3.ipynb\" target=\"_parent\"><img src=\"https://colab.research.google.com/assets/colab-badge.svg\" alt=\"Open In Colab\"/></a>"
      ],
      "id": "8cb98c33-681e-45ee-a1a5-c0d0ab8096ce"
    },
    {
      "cell_type": "code",
      "execution_count": 1,
      "metadata": {},
      "outputs": [
        {
          "output_type": "stream",
          "name": "stdout",
          "text": [
            "Probabilidad ≈ 2.040000e-03\n",
            "Error estimado ≈ 1.43e-04"
          ]
        }
      ],
      "source": [
        "import numpy as np\n",
        "\n",
        "# Total de personas\n",
        "poblacion = np.array([0]*50 + [1]*30 + [2]*20)\n",
        "# 0 = dicen la verdad, 1 = mienten, 2 = no responden\n",
        "\n",
        "def experimento():\n",
        "    muestra = np.random.choice(poblacion, size=30, replace=False)\n",
        "    unicos, cuentas = np.unique(muestra, return_counts=True)\n",
        "    conteo = dict(zip(unicos, cuentas))\n",
        "    return (conteo.get(0,0), conteo.get(1,0), conteo.get(2,0))\n",
        "\n",
        "# Número de simulaciones\n",
        "N = 100000\n",
        "resultados = np.array([experimento() for _ in range(N)])\n",
        "\n",
        "# Probabilidad aproximada de obtener exactamente 10 de cada categoría\n",
        "exito = np.sum((resultados[:,0]==10) & (resultados[:,1]==10) & (resultados[:,2]==10))\n",
        "probabilidad = exito / N\n",
        "\n",
        "# Estimación del error (desviación estándar de una variable Bernoulli)\n",
        "error = np.sqrt(probabilidad * (1 - probabilidad) / N)\n",
        "# Correcto pero necesita justificar\n",
        "\n",
        "print(f\"Probabilidad ≈ {probabilidad:.6e}\")\n",
        "print(f\"Error estimado ≈ {error:.2e}\")"
      ],
      "id": "cd30848a"
    }
  ],
  "nbformat": 4,
  "nbformat_minor": 5,
  "metadata": {
    "kernelspec": {
      "name": "python3",
      "display_name": "Python 3 (ipykernel)",
      "language": "python",
      "path": "/home/jnorena/miniforge3/envs/xgboost/share/jupyter/kernels/python3"
    },
    "language_info": {
      "name": "python",
      "codemirror_mode": {
        "name": "ipython",
        "version": "3"
      },
      "file_extension": ".py",
      "mimetype": "text/x-python",
      "nbconvert_exporter": "python",
      "pygments_lexer": "ipython3",
      "version": "3.12.11"
    }
  }
}