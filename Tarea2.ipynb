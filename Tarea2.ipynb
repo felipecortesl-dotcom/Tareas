{
  "nbformat": 4,
  "nbformat_minor": 0,
  "metadata": {
    "colab": {
      "provenance": [],
      "authorship_tag": "ABX9TyNzzUIp9cholLKYNenQ85v8",
      "include_colab_link": true
    },
    "kernelspec": {
      "name": "python3",
      "display_name": "Python 3"
    },
    "language_info": {
      "name": "python"
    }
  },
  "cells": [
    {
      "cell_type": "markdown",
      "metadata": {
        "id": "view-in-github",
        "colab_type": "text"
      },
      "source": [
        "<a href=\"https://colab.research.google.com/github/felipecortesl-dotcom/Tareas/blob/main/Tarea2.ipynb\" target=\"_parent\"><img src=\"https://colab.research.google.com/assets/colab-badge.svg\" alt=\"Open In Colab\"/></a>"
      ]
    },
    {
      "cell_type": "code",
      "execution_count": 2,
      "metadata": {
        "colab": {
          "base_uri": "https://localhost:8080/"
        },
        "id": "4-nrLGvX680L",
        "outputId": "e182b991-e38e-4184-e0e9-2682f0f7806a"
      },
      "outputs": [
        {
          "output_type": "stream",
          "name": "stdout",
          "text": [
            "Máximo de κ_f(x) en [-1,1]:\n",
            "x* = 1,  kappa(x*) = 0.581977\n",
            "\n",
            "Comparación f(x) con x = 1e-2 ... 1e-8\n",
            "         x             f_obvio           f_taylor8    dif. relativa\n",
            "   1.0e-02  1.005016708417e+00  1.005016708417e+00   1.06049391e-14\n",
            "   1.0e-03  1.000500166708e+00  1.000500166708e+00   4.28331850e-14\n",
            "   1.0e-04  1.000050001667e+00  1.000050001667e+00   4.32521264e-13\n",
            "   1.0e-05  1.000005000007e+00  1.000005000017e+00   9.70174641e-12\n",
            "   1.0e-06  1.000000499962e+00  1.000000500000e+00   3.79831532e-11\n",
            "   1.0e-07  1.000000049434e+00  1.000000050000e+00   5.66321406e-10\n",
            "   1.0e-08  1.000000000000e+00  1.000000005000e+00   4.99999996e-09\n"
          ]
        }
      ],
      "source": [
        "\n",
        "import numpy as np\n",
        "\n",
        "def f_obvio(x):\n",
        "    x = np.asarray(x, dtype=float)\n",
        "    out = (np.exp(x) - 1.0) / x\n",
        "    cerca_cero = np.isclose(x, 0.0)\n",
        "    if np.any(cerca_cero):\n",
        "        out[cerca_cero] = 1.0\n",
        "    return out\n",
        "\n",
        "def f_taylor8(x):\n",
        "    x = np.asarray(x, dtype=float)\n",
        "    k = np.arange(1, 9)\n",
        "    fact = np.cumprod(k).astype(float)\n",
        "    coeffs = 1.0 / fact\n",
        "    potencias = x[..., None] ** np.arange(0, 8)\n",
        "    return (potencias * coeffs).sum(axis=-1)\n",
        "\n",
        "def numero_condicionamiento(x):\n",
        "    x = np.asarray(x, dtype=float)\n",
        "    h = 1e-6\n",
        "    xh1 = x + h\n",
        "    xh2 = x - h\n",
        "    fp = (f_obvio(xh1) - f_obvio(xh2)) / (2*h)\n",
        "    fx = f_obvio(x)\n",
        "    return np.abs(x * fp / fx)\n",
        "\n",
        "grid = np.linspace(-1.0, 1.0, 20001)\n",
        "grid = grid[np.abs(grid) > 1e-12]\n",
        "kappa = numero_condicionamiento(grid)\n",
        "imax = np.argmax(kappa)\n",
        "x_max = grid[imax]\n",
        "kappa_max = kappa[imax]\n",
        "\n",
        "print(\"Máximo de κ_f(x) en [-1,1]:\")\n",
        "print(f\"x* = {x_max:.6g},  kappa(x*) = {kappa_max:.6g}\\n\")\n",
        "\n",
        "xs = 10.0 ** (-np.arange(2, 9))\n",
        "f_obv = f_obvio(xs)\n",
        "f_tay = f_taylor8(xs)\n",
        "\n",
        "rel_diff = np.abs(f_tay - f_obv) / np.maximum(1e-300, 0.5*(np.abs(f_tay)+np.abs(f_obv)))\n",
        "\n",
        "print(\"Comparación f(x) con x = 1e-2 ... 1e-8\")\n",
        "print(f\"{'x':>10}  {'f_obvio':>18}  {'f_taylor8':>18}  {'dif. relativa':>15}\")\n",
        "for xi, fo, ft, rd in zip(xs, f_obv, f_tay, rel_diff):\n",
        "    print(f\"{xi:10.1e}  {fo:18.12e}  {ft:18.12e}  {rd:15.8e}\")"
      ]
    },
    {
      "cell_type": "code",
      "source": [],
      "metadata": {
        "id": "KKaRhDw37Kxz"
      },
      "execution_count": null,
      "outputs": []
    }
  ]
}