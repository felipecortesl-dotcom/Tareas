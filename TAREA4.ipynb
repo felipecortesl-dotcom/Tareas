{
  "nbformat": 4,
  "nbformat_minor": 0,
  "metadata": {
    "colab": {
      "provenance": [],
      "authorship_tag": "ABX9TyObFMOF+4MvJwCnKPmyp20Y"
    },
    "kernelspec": {
      "name": "python3",
      "display_name": "Python 3"
    },
    "language_info": {
      "name": "python"
    }
  },
  "cells": [
    {
      "cell_type": "code",
      "execution_count": 4,
      "metadata": {
        "colab": {
          "base_uri": "https://localhost:8080/"
        },
        "id": "l3vMl-lpC2uy",
        "outputId": "ded8f510-9592-41e0-e58a-8b073a0c8c89"
      },
      "outputs": [
        {
          "output_type": "stream",
          "name": "stdout",
          "text": [
            "N = 1000, T = 20000\n",
            "media(SN) ≈ 0.089\n",
            "var(SN)   ≈ 1008.567  (teórico: 1000)\n",
            "std(SN)   ≈ 31.758  (≈ sqrt(N) = 31.623)\n",
            "|SN| prom ≈ 25.365  (escala típica ~ sqrt(N))\n"
          ]
        }
      ],
      "source": [
        "# Tarea 4.8 — Camino aleatorio 1D\n",
        "# p(izq)=0.5, p(der)=0.5, paso=1 m. Distancia típica ~ sqrt(N).\n",
        "\n",
        "import numpy as np\n",
        "\n",
        "np.random.seed(7)\n",
        "\n",
        "N = 1000      # pasos\n",
        "T = 20000     # repeticiones\n",
        "\n",
        "# +1/-1 con prob 0.5\n",
        "# randint -> {0,1}; transformo a {-1, +1} con 2*..-1\n",
        "pasos = 2*np.random.randint(0, 2, size=(T, N)) - 1\n",
        "\n",
        "# posición final tras N pasos para cada repetición\n",
        "SN = pasos.sum(axis=1)\n",
        "\n",
        "# métricas simples\n",
        "media = SN.mean()\n",
        "var   = SN.var()\n",
        "std   = SN.std()\n",
        "\n",
        "# “distancia típica”: tomo el promedio de |SN|\n",
        "dist_tipica = np.abs(SN).mean()\n",
        "\n",
        "print(f\"N = {N}, T = {T}\")\n",
        "print(f\"media(SN) ≈ {media:.3f}\")\n",
        "print(f\"var(SN)   ≈ {var:.3f}  (teórico: {N})\")\n",
        "print(f\"std(SN)   ≈ {std:.3f}  (≈ sqrt(N) = {np.sqrt(N):.3f})\")\n",
        "print(f\"|SN| prom ≈ {dist_tipica:.3f}  (escala típica ~ sqrt(N))\")\n"
      ]
    }
  ]
}