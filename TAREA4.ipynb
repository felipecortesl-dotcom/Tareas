{
  "cells": [
    {
      "cell_type": "markdown",
      "metadata": {},
      "source": [
        "# Nota: 6.0"
      ],
      "id": "a0589373-9046-4be3-847f-479f27f68979"
    },
    {
      "cell_type": "code",
      "execution_count": 1,
      "metadata": {},
      "outputs": [
        {
          "output_type": "stream",
          "name": "stdout",
          "text": [
            "N = 1000, T = 20000\n",
            "media(SN) ≈ 0.089\n",
            "var(SN)   ≈ 1008.567  (teórico: 1000)\n",
            "std(SN)   ≈ 31.758  (≈ sqrt(N) = 31.623)\n",
            "|SN| prom ≈ 25.365  (escala típica ~ sqrt(N))"
          ]
        }
      ],
      "source": [
        "# Tarea 4.8 — Camino aleatorio 1D\n",
        "# p(izq)=0.5, p(der)=0.5, paso=1 m. Distancia típica ~ sqrt(N).\n",
        "\n",
        "import numpy as np\n",
        "\n",
        "np.random.seed(7)\n",
        "\n",
        "N = 1000      # pasos\n",
        "T = 20000     # repeticiones\n",
        "\n",
        "# +1/-1 con prob 0.5\n",
        "# randint -> {0,1}; transformo a {-1, +1} con 2*..-1\n",
        "pasos = 2*np.random.randint(0, 2, size=(T, N)) - 1\n",
        "\n",
        "# posición final tras N pasos para cada repetición\n",
        "SN = pasos.sum(axis=1)\n",
        "\n",
        "# métricas simples\n",
        "media = SN.mean()\n",
        "var   = SN.var()\n",
        "std   = SN.std()\n",
        "\n",
        "# “distancia típica”: tomo el promedio de |SN|\n",
        "dist_tipica = np.abs(SN).mean()\n",
        "\n",
        "print(f\"N = {N}, T = {T}\")\n",
        "print(f\"media(SN) ≈ {media:.3f}\")\n",
        "print(f\"var(SN)   ≈ {var:.3f}  (teórico: {N})\")\n",
        "print(f\"std(SN)   ≈ {std:.3f}  (≈ sqrt(N) = {np.sqrt(N):.3f})\")\n",
        "print(f\"|SN| prom ≈ {dist_tipica:.3f}  (escala típica ~ sqrt(N))\")"
      ],
      "id": "0a9dda4f"
    },
    {
      "cell_type": "markdown",
      "metadata": {},
      "source": [
        "El comportamiento para N grande se puede deducir analíticamente a partir\n",
        "del teorema central del límite. Está bien hacer una simulación (pedida\n",
        "claramente a una IA) pero es importante interpretar y comparar."
      ],
      "id": "230a0ff2-60c1-49d0-9a64-4dd727d566a2"
    }
  ],
  "nbformat": 4,
  "nbformat_minor": 5,
  "metadata": {
    "kernelspec": {
      "name": "python3",
      "display_name": "Python 3 (ipykernel)",
      "language": "python",
      "path": "/home/jnorena/miniforge3/envs/xgboost/share/jupyter/kernels/python3"
    },
    "language_info": {
      "name": "python",
      "codemirror_mode": {
        "name": "ipython",
        "version": "3"
      },
      "file_extension": ".py",
      "mimetype": "text/x-python",
      "nbconvert_exporter": "python",
      "pygments_lexer": "ipython3",
      "version": "3.12.11"
    }
  }
}