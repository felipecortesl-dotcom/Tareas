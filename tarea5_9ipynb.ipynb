{
  "nbformat": 4,
  "nbformat_minor": 0,
  "metadata": {
    "colab": {
      "provenance": [],
      "authorship_tag": "ABX9TyNq3ZRc0WpJTlzf10TZmtcg",
      "include_colab_link": true
    },
    "kernelspec": {
      "name": "python3",
      "display_name": "Python 3"
    },
    "language_info": {
      "name": "python"
    }
  },
  "cells": [
    {
      "cell_type": "markdown",
      "metadata": {
        "id": "view-in-github",
        "colab_type": "text"
      },
      "source": [
        "<a href=\"https://colab.research.google.com/github/felipecortesl-dotcom/Tareas/blob/main/tarea5_9ipynb.ipynb\" target=\"_parent\"><img src=\"https://colab.research.google.com/assets/colab-badge.svg\" alt=\"Open In Colab\"/></a>"
      ]
    },
    {
      "cell_type": "code",
      "execution_count": 1,
      "metadata": {
        "colab": {
          "base_uri": "https://localhost:8080/"
        },
        "id": "iO0JxjqqYqIm",
        "outputId": "5b329f65-a66f-4943-b58f-68614bb9d471"
      },
      "outputs": [
        {
          "output_type": "stream",
          "name": "stdout",
          "text": [
            "A1:\n",
            "  det numpy   = 5\n",
            "  det via LU  = 5.0\n",
            "  det via PLU = 5\n",
            "\n",
            "A2:\n",
            "  det numpy   = -16\n",
            "  det via LU  = -16.0\n",
            "  det via PLU = -16\n",
            "\n",
            "A3:\n",
            "  det numpy   = -678\n",
            "  det via LU  = -678.0\n",
            "  det via PLU = -678\n",
            "\n"
          ]
        }
      ],
      "source": [
        "import numpy as np\n",
        "import scipy.linalg\n",
        "\n",
        "\n",
        "def lufact(A):\n",
        "    A = np.asarray(A, dtype=float)\n",
        "    n = A.shape[0]\n",
        "    L = np.eye(n, dtype=float)\n",
        "    U = np.zeros((n, n), dtype=float)\n",
        "    Ak = A.copy()\n",
        "\n",
        "    for k in range(n-1):\n",
        "        U[k, :] = Ak[k, :]\n",
        "        piv = U[k, k]\n",
        "        if piv == 0:\n",
        "            raise ZeroDivisionError(f\"Pivot cero en k={k} (esta versión no pivotea).\")\n",
        "        L[:, k] = Ak[:, k] / piv\n",
        "        Ak -= np.outer(L[:, k], U[k, :])\n",
        "\n",
        "    U[n-1, n-1] = Ak[n-1, n-1]\n",
        "    return L, U\n",
        "\n",
        "def det_via_lu(A):\n",
        "    \"\"\"det(A) = prod(diag(U)) porque L es unipotente.\"\"\"\n",
        "    _, U = lufact(A)\n",
        "    return float(np.prod(np.diag(U)))\n",
        "\n",
        "# Opción estable con pivoteo\n",
        "def det_via_plu(A):\n",
        "    \"\"\"Para matrices generales: det(A) = det(P) * prod(diag(U)).\"\"\"\n",
        "    P, L, U = scipy.linalg.lu(np.asarray(A, float), permute_l=False)\n",
        "    detP = float(round(np.linalg.det(P)))  # ±1\n",
        "    return detP * float(np.prod(np.diag(U)))\n",
        "\n",
        "#  Verificación con tres matrices\n",
        "A1 = np.array([[3, 1],\n",
        "               [1, 2]], float)\n",
        "\n",
        "A2 = np.array([[2, 1, 1],\n",
        "               [4,-6, 0],\n",
        "               [-2,7, 2]], float)\n",
        "\n",
        "rng = np.random.default_rng(7)\n",
        "A3 = rng.integers(-5, 6, size=(4,4)).astype(float)\n",
        "\n",
        "for name, A in {\"A1\":A1, \"A2\":A2, \"A3\":A3}.items():\n",
        "    det_np = float(np.linalg.det(A))\n",
        "    try:\n",
        "        det_lu  = det_via_lu(A)   # sin pivoteo\n",
        "    except ZeroDivisionError as e:\n",
        "        det_lu = str(e)\n",
        "    det_plu = det_via_plu(A)      # con pivoteo (estable)\n",
        "\n",
        "    print(f\"{name}:\")\n",
        "    print(f\"  det numpy   = {det_np:.12g}\")\n",
        "    print(f\"  det via LU  = {det_lu}\")\n",
        "    print(f\"  det via PLU = {det_plu:.12g}\\n\")\n"
      ]
    }
  ]
}